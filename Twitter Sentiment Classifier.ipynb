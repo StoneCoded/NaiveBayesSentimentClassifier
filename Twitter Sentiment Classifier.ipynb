{
 "cells": [
  {
   "cell_type": "code",
   "execution_count": 90,
   "metadata": {},
   "outputs": [],
   "source": [
    "#Data source: https://www.kaggle.com/kazanova/sentiment140\n",
    "#\n",
    "#From the Data Description.\n",
    "#\n",
    "#This is the sentiment140 dataset. It contains 1,600,000 tweets extracted using the twitter api . \n",
    "#The tweets have been annotated (0 = negative, 4 = positive) and they can be used to detect sentiment.\n",
    "#\n",
    "#It contains the following 6 fields:\n",
    "# target: the polarity of the tweet (0 = negative, 2 = neutral, 4 = positive)\n",
    "# ids: The id of the tweet ( 2087)\n",
    "# date: the date of the tweet (Sat May 16 23:58:44 UTC 2009)\n",
    "# flag: The query (lyx). If there is no query, then this value is NO_QUERY.\n",
    "# user: the user that tweeted (robotickilldozr)\n",
    "# text: the text of the tweet (Lyx is cool)"
   ]
  },
  {
   "cell_type": "code",
   "execution_count": 91,
   "metadata": {},
   "outputs": [],
   "source": [
    "import pandas as pd\n",
    "df = pd.read_csv(\"twitter_sentiment_140.csv\", engine='python')\n",
    "df.columns = ['target', 'ids', 'date', 'flag', 'user', 'text']"
   ]
  },
  {
   "cell_type": "code",
   "execution_count": 92,
   "metadata": {},
   "outputs": [
    {
     "name": "stdout",
     "output_type": "stream",
     "text": [
      "[0 4]\n",
      "target    0\n",
      "ids       0\n",
      "date      0\n",
      "flag      0\n",
      "user      0\n",
      "text      0\n",
      "dtype: int64\n"
     ]
    }
   ],
   "source": [
    "print(df.target.unique())\n",
    "print(df.isna().sum())\n",
    "#Shows that there is no neutral sentiment\n",
    "#Also that there is no nan values"
   ]
  },
  {
   "cell_type": "code",
   "execution_count": 93,
   "metadata": {},
   "outputs": [],
   "source": [
    "df_labels = df['target'].copy()\n",
    "df_data_list = df['text'].copy().tolist()\n",
    "#Creates labels and data_list for later processing"
   ]
  },
  {
   "cell_type": "code",
   "execution_count": 94,
   "metadata": {},
   "outputs": [
    {
     "name": "stdout",
     "output_type": "stream",
     "text": [
      "1279999\n",
      "320000\n"
     ]
    }
   ],
   "source": [
    "from sklearn.model_selection import train_test_split\n",
    "\n",
    "train_data, test_data, train_labels, test_labels = train_test_split(df_data_list, df_labels, test_size = 0.2, random_state = 1)\n",
    "print(len(train_data))\n",
    "print(len(test_data))\n",
    "\n",
    "#Imports train_test_split and creates training/testing datasets accordingly"
   ]
  },
  {
   "cell_type": "code",
   "execution_count": 95,
   "metadata": {},
   "outputs": [
    {
     "name": "stdout",
     "output_type": "stream",
     "text": [
      "@DavidArchie Haha...!!! Yeah!  T- shirts r awesome!! &amp; it's SUMMER!  lol!\n",
      "  (0, 55897)\t1\n",
      "  (0, 72415)\t1\n",
      "  (0, 150274)\t1\n",
      "  (0, 226652)\t1\n",
      "  (0, 257356)\t1\n",
      "  (0, 322809)\t1\n",
      "  (0, 473458)\t1\n",
      "  (0, 501521)\t1\n",
      "  (0, 579261)\t1\n"
     ]
    }
   ],
   "source": [
    "from sklearn.feature_extraction.text import CountVectorizer\n",
    "\n",
    "counter = CountVectorizer()\n",
    "counter.fit(train_data)\n",
    "train_counts = counter.transform(train_data)\n",
    "test_counts = counter.transform(test_data)\n",
    "\n",
    "print(train_data[2])\n",
    "print(train_counts[2])\n",
    "#Creates vector counts of each tweet for test and training sets. Prints example"
   ]
  },
  {
   "cell_type": "code",
   "execution_count": 96,
   "metadata": {},
   "outputs": [],
   "source": [
    "from sklearn.naive_bayes import MultinomialNB\n",
    "\n",
    "classifier = MultinomialNB()\n",
    "#Creates Mulitnomial Naive Bayes classifier\n",
    "classifier.fit(train_counts, train_labels)\n",
    "#Trains classifier on data set\n",
    "predictions = classifier.predict(test_counts)\n",
    "#Uses test data to see test accuracy"
   ]
  },
  {
   "cell_type": "code",
   "execution_count": 97,
   "metadata": {},
   "outputs": [
    {
     "name": "stdout",
     "output_type": "stream",
     "text": [
      "0.78178125\n"
     ]
    }
   ],
   "source": [
    "from sklearn.metrics import accuracy_score\n",
    "\n",
    "print(accuracy_score(test_labels, predictions))\n",
    "#Prints accuracy score as percentage"
   ]
  },
  {
   "cell_type": "code",
   "execution_count": 98,
   "metadata": {},
   "outputs": [
    {
     "name": "stdout",
     "output_type": "stream",
     "text": [
      "[[130972  29159]\n",
      " [ 40671 119198]]\n"
     ]
    }
   ],
   "source": [
    "from sklearn.metrics import confusion_matrix\n",
    "\n",
    "print(confusion_matrix(test_labels, predictions))\n",
    "#Shows confusion matrix for predictions."
   ]
  },
  {
   "cell_type": "code",
   "execution_count": 119,
   "metadata": {},
   "outputs": [
    {
     "name": "stdout",
     "output_type": "stream",
     "text": [
      "[0]\n"
     ]
    }
   ],
   "source": [
    "#Tests custom text against classifier, showcasing a fault in the classifier\n",
    "test_text = \"I am very happy, not sad in any way\"\n",
    "custom_counts = counter.transform([test_text])\n",
    "print(classifier.predict(custom_counts))"
   ]
  }
 ],
 "metadata": {
  "kernelspec": {
   "display_name": "Python 3",
   "language": "python",
   "name": "python3"
  },
  "language_info": {
   "codemirror_mode": {
    "name": "ipython",
    "version": 3
   },
   "file_extension": ".py",
   "mimetype": "text/x-python",
   "name": "python",
   "nbconvert_exporter": "python",
   "pygments_lexer": "ipython3",
   "version": "3.7.6"
  }
 },
 "nbformat": 4,
 "nbformat_minor": 4
}
